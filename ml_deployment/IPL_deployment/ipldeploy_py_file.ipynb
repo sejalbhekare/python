{
 "cells": [
  {
   "cell_type": "code",
   "execution_count": 1,
   "id": "f72b172d",
   "metadata": {},
   "outputs": [],
   "source": [
    "import numpy as np\n",
    "import pickle\n",
    "import streamlit as st"
   ]
  },
  {
   "cell_type": "code",
   "execution_count": 4,
   "id": "06e82746",
   "metadata": {},
   "outputs": [],
   "source": [
    "loaded_model = pickle.load(open(r'C:\\Users\\HP\\IPL_pred_trained_model.sav','rb'))"
   ]
  },
  {
   "cell_type": "code",
   "execution_count": 9,
   "id": "97211ed9",
   "metadata": {},
   "outputs": [],
   "source": [
    "def ipl_pred_function(input_data):\n",
    "    input_data_as_numpy_array = np.asarray(input_data)\n",
    "    input_data_reshaped = input_data_as_numpy_array.reshape(1,-1)\n",
    "    prediction = loaded_model.predict(input_data_reshaped)\n",
    "    return(prediction)"
   ]
  },
  {
   "cell_type": "code",
   "execution_count": 10,
   "id": "4ec2fb04",
   "metadata": {},
   "outputs": [
    {
     "name": "stderr",
     "output_type": "stream",
     "text": [
      "2024-03-13 20:22:26.498 \n",
      "  \u001b[33m\u001b[1mWarning:\u001b[0m to view this Streamlit app on a browser, run it with the following\n",
      "  command:\n",
      "\n",
      "    streamlit run C:\\ProgramData\\anaconda3\\Lib\\site-packages\\ipykernel_launcher.py [ARGUMENTS]\n"
     ]
    }
   ],
   "source": [
    "def main():\n",
    "    st.title(\"IPL score Prediction Web App\")\n",
    "    \n",
    "    \n",
    "    runs= st.text_input(\"Runs scored by batsman for that particular ball: \")\n",
    "    wickets= st.text_input(\"whether batsman out or not for that ball: \")\n",
    "    overs= st.text_input(\"The amount of rainfall recorded for the day: \")\n",
    "    total= st.text_input(\"Indiactes over: \")\n",
    "    date= st.text_input(\"The date match has happened.: \")\n",
    "    venue = st.text_input(\"place match has happened: \")\n",
    "    bat_team = st.text_input(\"Batting team name: \")\n",
    "    bowl_team = st.text_input(\"Bowling team name: \")\n",
    "    batsman = st.text_input(\"player who is facing the ball: \")\n",
    "    bowler = st.text_input(\"player who bowls the bowl: \")\n",
    "    \n",
    "    IPL_score_predication=\"\"\n",
    "    if st.button(\"IPl score predication Test Result: \"):\n",
    "        IPL_score_predication= ipl_pred_function(['runs','wickets','overs','total','date','venue','bat_team','bowl_team',\n",
    "                                                  'batsman','bowler'])\n",
    "        st.success(IPL_score_predication)\n",
    "        \n",
    "        \n",
    "if __name__=='__main__':\n",
    "    main()\n",
    "    "
   ]
  },
  {
   "cell_type": "code",
   "execution_count": null,
   "id": "f4f39b94",
   "metadata": {},
   "outputs": [],
   "source": []
  }
 ],
 "metadata": {
  "kernelspec": {
   "display_name": "Python 3 (ipykernel)",
   "language": "python",
   "name": "python3"
  },
  "language_info": {
   "codemirror_mode": {
    "name": "ipython",
    "version": 3
   },
   "file_extension": ".py",
   "mimetype": "text/x-python",
   "name": "python",
   "nbconvert_exporter": "python",
   "pygments_lexer": "ipython3",
   "version": "3.11.5"
  }
 },
 "nbformat": 4,
 "nbformat_minor": 5
}
