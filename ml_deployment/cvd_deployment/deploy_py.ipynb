{
 "cells": [
  {
   "cell_type": "code",
   "execution_count": 1,
   "id": "340ab8b8",
   "metadata": {},
   "outputs": [],
   "source": [
    "import numpy as np\n",
    "import pickle\n",
    "import streamlit as st"
   ]
  },
  {
   "cell_type": "code",
   "execution_count": 2,
   "id": "8ae1d442",
   "metadata": {},
   "outputs": [],
   "source": [
    "loaded_model = pickle.load(open(r'cvd_model.sav','rb'))"
   ]
  },
  {
   "cell_type": "code",
   "execution_count": 3,
   "id": "fc4ccbaa",
   "metadata": {},
   "outputs": [],
   "source": [
    "def cvd_predication_function(input_data):\n",
    "    \n",
    "# changing the input_data to numpy array\n",
    "    input_data_as_nparray = np.asarray(input_data)\n",
    "\n",
    "# reshape the array as we are predicting for one instance\n",
    "    input_data_reshaped = input_data_as_nparray.reshape(1,-1)\n",
    "\n",
    "    prediction = loaded_model.predict(input_data_reshaped)\n",
    "    print(prediction)\n",
    "\n",
    "    if (prediction[0] == 0):\n",
    "        print('Risk of cardiovascular disease')\n",
    "    else:\n",
    "        print('No risk of cardiovascular disease')"
   ]
  },
  {
   "cell_type": "code",
   "execution_count": 4,
   "id": "57b63f97",
   "metadata": {},
   "outputs": [],
   "source": [
    "def main():\n",
    "    st.title(\"cardiovascular disease Prediction Web App\")\n",
    "    \n",
    "    \n",
    "    Height_(cm) == st.text_input(\"Height of the individual in cm: \")\n",
    "    Weight_(kg) == st.text_input(\"Weight of the individual in kg: \")\n",
    "    General_Health == st.text_input(\"individual current health condition: \")\n",
    "    Checkup == st.text_input(\"About how long has it been since you last visited a doctor for a routine checkup?\")\n",
    "    Exercise == st.text_input(\"Do you exercise every day?\")\n",
    "    Cancer == st.text_input(\"Do you have any type of cancer?\")\n",
    "    Depression == st.text_input(\"Do you have a depressive disorder?\")\n",
    "    Diabetes == st.text_input(\"Are you having Diabetes?\")\n",
    "    Sex == st.text_input(\"Gender: \")\n",
    "    Age_Category == st.text_input(\"Age Category\")\n",
    "    Smoking_History == st.text_input(\"Do you smoke?\")\n",
    "    Alcohol_Consumption == st.text_input(\"Do you drink alcohol?\")\n",
    "    \n",
    "    \n",
    "    cvd_predication=\"\"\n",
    "    if st.button(\"cardiovascular disease predication Test Result: \"):\n",
    "        cvd_predication = cvd_predication_function([Height_(cm),Weight_(kg),General_Health,Checkup,Exercise,Cancer,Depression,Diabetes,\n",
    "                                         Sex,Age_Category,Smoking_History,Alcohol_Consumption])\n",
    "    st.success(cvd_predication)\n",
    "    \n",
    "if __name__ == '_main_':\n",
    "    main()"
   ]
  },
  {
   "cell_type": "code",
   "execution_count": null,
   "id": "152fd2f7",
   "metadata": {},
   "outputs": [],
   "source": []
  },
  {
   "cell_type": "code",
   "execution_count": null,
   "id": "ee7537a0",
   "metadata": {},
   "outputs": [],
   "source": []
  },
  {
   "cell_type": "code",
   "execution_count": null,
   "id": "5261a1c5",
   "metadata": {},
   "outputs": [],
   "source": []
  },
  {
   "cell_type": "code",
   "execution_count": null,
   "id": "0b0f5d24",
   "metadata": {},
   "outputs": [],
   "source": []
  },
  {
   "cell_type": "code",
   "execution_count": null,
   "id": "5243f27c",
   "metadata": {},
   "outputs": [],
   "source": []
  },
  {
   "cell_type": "code",
   "execution_count": null,
   "id": "0fc34e0e",
   "metadata": {},
   "outputs": [],
   "source": []
  },
  {
   "cell_type": "code",
   "execution_count": null,
   "id": "e8801964",
   "metadata": {},
   "outputs": [],
   "source": []
  },
  {
   "cell_type": "code",
   "execution_count": null,
   "id": "b06dd08d",
   "metadata": {},
   "outputs": [],
   "source": []
  },
  {
   "cell_type": "code",
   "execution_count": null,
   "id": "b83a0c51",
   "metadata": {},
   "outputs": [],
   "source": []
  },
  {
   "cell_type": "code",
   "execution_count": null,
   "id": "f4db2d23",
   "metadata": {},
   "outputs": [],
   "source": []
  },
  {
   "cell_type": "code",
   "execution_count": null,
   "id": "85f547e5",
   "metadata": {},
   "outputs": [],
   "source": []
  },
  {
   "cell_type": "code",
   "execution_count": null,
   "id": "2c7d3d9b",
   "metadata": {},
   "outputs": [],
   "source": []
  }
 ],
 "metadata": {
  "kernelspec": {
   "display_name": "Python 3 (ipykernel)",
   "language": "python",
   "name": "python3"
  },
  "language_info": {
   "codemirror_mode": {
    "name": "ipython",
    "version": 3
   },
   "file_extension": ".py",
   "mimetype": "text/x-python",
   "name": "python",
   "nbconvert_exporter": "python",
   "pygments_lexer": "ipython3",
   "version": "3.11.5"
  }
 },
 "nbformat": 4,
 "nbformat_minor": 5
}
