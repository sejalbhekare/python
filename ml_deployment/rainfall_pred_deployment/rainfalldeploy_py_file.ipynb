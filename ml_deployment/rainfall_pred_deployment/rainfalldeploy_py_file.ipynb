{
 "cells": [
  {
   "cell_type": "code",
   "execution_count": 1,
   "id": "9dac4580",
   "metadata": {},
   "outputs": [],
   "source": [
    "import numpy as np\n",
    "import pickle\n",
    "import streamlit as st"
   ]
  },
  {
   "cell_type": "code",
   "execution_count": 2,
   "id": "5257689b",
   "metadata": {},
   "outputs": [],
   "source": [
    "loaded_model = pickle.load(open(r'trained_model.sav','rb'))"
   ]
  },
  {
   "cell_type": "code",
   "execution_count": 6,
   "id": "22126f8c",
   "metadata": {},
   "outputs": [],
   "source": [
    "def Rainfall_pred_function(input_data):\n",
    "    \n",
    "# changing the input_data to numpy array\n",
    "    input_data_as_numpy_array = np.asarray(input_data)\n",
    "\n",
    "# reshape the array as we are predicting for one instance\n",
    "    input_data_reshaped = input_data_as_numpy_array.reshape(1,-1)\n",
    "\n",
    "    prediction = loaded_model.predict(input_data_reshaped)\n",
    "    print(prediction)\n",
    "\n",
    "    if (prediction[0] == 0):\n",
    "        print('It will not rain tomorrow')\n",
    "    else:\n",
    "        print('it may rain tomorrow')"
   ]
  },
  {
   "cell_type": "code",
   "execution_count": 7,
   "id": "1a8142c0",
   "metadata": {},
   "outputs": [
    {
     "name": "stderr",
     "output_type": "stream",
     "text": [
      "2024-03-13 13:59:29.825 \n",
      "  \u001b[33m\u001b[1mWarning:\u001b[0m to view this Streamlit app on a browser, run it with the following\n",
      "  command:\n",
      "\n",
      "    streamlit run C:\\ProgramData\\anaconda3\\Lib\\site-packages\\ipykernel_launcher.py [ARGUMENTS]\n"
     ]
    }
   ],
   "source": [
    "def main():\n",
    "    st.title(\"Rainfall Prediction Web App\")\n",
    "    \n",
    "    \n",
    "    MinTemp= st.text_input(\"The minimum temperature: \")\n",
    "    MaxTemp= st.text_input(\"The Maximum temperature: \")\n",
    "    Rainfall= st.text_input(\"The amount of rainfall recorded for the day: \")\n",
    "    Sunshine= st.text_input(\"The number of hours of bright sunshine in the day: \")\n",
    "    WindGustSpeed= st.text_input(\"The direction of the strongest windgust: \")\n",
    "    Humidity9am = st.text_input(\"Humidity at 9am: \")\n",
    "    Humidity3pm = st.text_input(\"Humidity at 3pm: \")\n",
    "    Pressure9am = st.text_input(\"Atmospheric pressure reduced to mean sea level at 9am: \")\n",
    "    Pressure3pm = st.text_input(\"Atmospheric pressure reduced to mean sea level at 3pm: \")\n",
    "    Cloud9am = st.text_input(\" sky obscured by cloud at 9am: \")\n",
    "    Cloud3pm = st.text_input(\" sky obscured by cloud at 3pm: \")\n",
    "    Date = st.text_input(\"The date of observation: \")\n",
    "    Location = st.text_input(\"location of the weather station: \")\n",
    "    WindGustDir = st.text_input(\"The direction of the strongest wind gust: \")\n",
    "    RainToday = st.text_input(\"Whether it rained today or not: \")\n",
    "    \n",
    "    Rainfall_predication=\"\"\n",
    "    if st.button(\"rainfall predication Test Result: \"):\n",
    "        Rainfall_predication= Rainfall_pred_function([MinTemp,MaxTemp,Rainfall,Sunshine,WindGustSpeed,Humidity9am,Humidity3pm,\n",
    "                                        Pressure9am,Pressure3pm,Cloud9am,Cloud3pm,Date,Location,WindGustDir,RainToday])\n",
    "    st.success(Rainfall_predication)\n",
    "    \n",
    "    \n",
    "if __name__=='__main__':\n",
    "    main()"
   ]
  },
  {
   "cell_type": "code",
   "execution_count": null,
   "id": "27900f30",
   "metadata": {},
   "outputs": [],
   "source": []
  },
  {
   "cell_type": "code",
   "execution_count": null,
   "id": "0cbc67b8",
   "metadata": {},
   "outputs": [],
   "source": []
  },
  {
   "cell_type": "code",
   "execution_count": null,
   "id": "6cfe3f21",
   "metadata": {},
   "outputs": [],
   "source": []
  },
  {
   "cell_type": "code",
   "execution_count": null,
   "id": "7bdfaa5a",
   "metadata": {},
   "outputs": [],
   "source": []
  },
  {
   "cell_type": "code",
   "execution_count": null,
   "id": "5f9dd7ce",
   "metadata": {},
   "outputs": [],
   "source": []
  }
 ],
 "metadata": {
  "kernelspec": {
   "display_name": "Python 3 (ipykernel)",
   "language": "python",
   "name": "python3"
  },
  "language_info": {
   "codemirror_mode": {
    "name": "ipython",
    "version": 3
   },
   "file_extension": ".py",
   "mimetype": "text/x-python",
   "name": "python",
   "nbconvert_exporter": "python",
   "pygments_lexer": "ipython3",
   "version": "3.11.5"
  }
 },
 "nbformat": 4,
 "nbformat_minor": 5
}
